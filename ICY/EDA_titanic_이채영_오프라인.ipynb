{
 "cells": [
  {
   "cell_type": "markdown",
   "id": "framed-wound",
   "metadata": {},
   "source": [
    "# EDA (Exploratory Data Analysis)\n",
    "다양한 각도에서 데이터를 관찰하고 이해하는 과정입니다. 데이터의 이해도가 높아지면서 숨겨진 의미를 발견하고 잠재적인 문제를 미리 발견할 수 있습니다. 이를 바탕으로 데이터를 보완하거나 기존의 가설을 수정할 수 있습니다. "
   ]
  },
  {
   "cell_type": "markdown",
   "id": "defined-sharp",
   "metadata": {
    "ExecuteTime": {
     "end_time": "2022-04-26T01:12:21.522725Z",
     "start_time": "2022-04-26T01:12:21.498787Z"
    }
   },
   "source": [
    "## titanic 데이터 설명\n",
    "타이타닉호에 승선했던 탑승자 정보를 담고 있는 데이터이다. 데이터분석 필드에서는 교육용 및 입문용 데이터로 오랫동안 사랑받아 온 데이터이며  \n",
    "탑승자 정보를 바탕으로 이 탑승자가 생존했는지 혹은 사망했는지 분류하는 모델링을 목적으로 제작 된 데이터입니다.  \n",
    "\n",
    "**columns 정보**\n",
    "- pclass : 객실 등급\n",
    "- survived : 생존 유무\n",
    "- name : 칭호를 포함한 이름\n",
    "- sex : 성별\n",
    "- age : 나이\n",
    "- sibsp : 형제 혹은 부부의 수\n",
    "- parch : 부모, 혹은 자녀의 수\n",
    "- ticket : 탑승권 종류 (각 숫자가 의미하는 바는 데이터를 통해 알 수 있는 것이 없을 수 있습니다.)\n",
    "- fare : 지불한 운임\n",
    "- cabin : 객실정보\n",
    "- embarked : 선착장정보\n",
    "- boat : 탈출한 보트가 있다면 boat 번호\n",
    "- body : 사망자의 시신 수습 후 부여한 일련번호\n",
    "- home.dest : 출신"
   ]
  },
  {
   "cell_type": "markdown",
   "id": "composite-optics",
   "metadata": {},
   "source": [
    "## 데이터 살펴보기\n",
    "### 데이터 불러오기 "
   ]
  },
  {
   "cell_type": "code",
   "execution_count": 1,
   "id": "threatened-booth",
   "metadata": {
    "ExecuteTime": {
     "end_time": "2022-04-27T14:42:24.128804Z",
     "start_time": "2022-04-27T14:42:11.883395Z"
    }
   },
   "outputs": [],
   "source": [
    "# 필요모듈 import\n",
    "import numpy as np\n",
    "import pandas as pd\n",
    "import matplotlib\n",
    "import matplotlib.pyplot as plt\n",
    "from matplotlib import pyplot\n",
    "import seaborn as sns\n",
    "%matplotlib inline\n",
    "matplotlib.rc('font', family='Malgun Gothic')"
   ]
  },
  {
   "cell_type": "code",
   "execution_count": 2,
   "id": "stupid-intensity",
   "metadata": {
    "ExecuteTime": {
     "end_time": "2022-04-27T14:42:24.234489Z",
     "start_time": "2022-04-27T14:42:24.138778Z"
    }
   },
   "outputs": [
    {
     "data": {
      "text/html": [
       "<div>\n",
       "<style scoped>\n",
       "    .dataframe tbody tr th:only-of-type {\n",
       "        vertical-align: middle;\n",
       "    }\n",
       "\n",
       "    .dataframe tbody tr th {\n",
       "        vertical-align: top;\n",
       "    }\n",
       "\n",
       "    .dataframe thead th {\n",
       "        text-align: right;\n",
       "    }\n",
       "</style>\n",
       "<table border=\"1\" class=\"dataframe\">\n",
       "  <thead>\n",
       "    <tr style=\"text-align: right;\">\n",
       "      <th></th>\n",
       "      <th>pclass</th>\n",
       "      <th>survived</th>\n",
       "      <th>name</th>\n",
       "      <th>sex</th>\n",
       "      <th>age</th>\n",
       "      <th>sibsp</th>\n",
       "      <th>parch</th>\n",
       "      <th>ticket</th>\n",
       "      <th>fare</th>\n",
       "      <th>cabin</th>\n",
       "      <th>embarked</th>\n",
       "      <th>boat</th>\n",
       "      <th>body</th>\n",
       "      <th>home.dest</th>\n",
       "    </tr>\n",
       "  </thead>\n",
       "  <tbody>\n",
       "    <tr>\n",
       "      <th>0</th>\n",
       "      <td>1</td>\n",
       "      <td>1</td>\n",
       "      <td>Allen, Miss. Elisabeth Walton</td>\n",
       "      <td>female</td>\n",
       "      <td>29.00</td>\n",
       "      <td>0</td>\n",
       "      <td>0</td>\n",
       "      <td>24160</td>\n",
       "      <td>211.3375</td>\n",
       "      <td>B5</td>\n",
       "      <td>S</td>\n",
       "      <td>2</td>\n",
       "      <td>NaN</td>\n",
       "      <td>St Louis, MO</td>\n",
       "    </tr>\n",
       "    <tr>\n",
       "      <th>1</th>\n",
       "      <td>1</td>\n",
       "      <td>1</td>\n",
       "      <td>Allison, Master. Hudson Trevor</td>\n",
       "      <td>male</td>\n",
       "      <td>0.92</td>\n",
       "      <td>1</td>\n",
       "      <td>2</td>\n",
       "      <td>113781</td>\n",
       "      <td>151.5500</td>\n",
       "      <td>C22 C26</td>\n",
       "      <td>S</td>\n",
       "      <td>11</td>\n",
       "      <td>NaN</td>\n",
       "      <td>Montreal, PQ / Chesterville, ON</td>\n",
       "    </tr>\n",
       "    <tr>\n",
       "      <th>2</th>\n",
       "      <td>1</td>\n",
       "      <td>0</td>\n",
       "      <td>Allison, Miss. Helen Loraine</td>\n",
       "      <td>female</td>\n",
       "      <td>2.00</td>\n",
       "      <td>1</td>\n",
       "      <td>2</td>\n",
       "      <td>113781</td>\n",
       "      <td>151.5500</td>\n",
       "      <td>C22 C26</td>\n",
       "      <td>S</td>\n",
       "      <td>NaN</td>\n",
       "      <td>NaN</td>\n",
       "      <td>Montreal, PQ / Chesterville, ON</td>\n",
       "    </tr>\n",
       "    <tr>\n",
       "      <th>3</th>\n",
       "      <td>1</td>\n",
       "      <td>0</td>\n",
       "      <td>Allison, Mr. Hudson Joshua Creighton</td>\n",
       "      <td>male</td>\n",
       "      <td>30.00</td>\n",
       "      <td>1</td>\n",
       "      <td>2</td>\n",
       "      <td>113781</td>\n",
       "      <td>151.5500</td>\n",
       "      <td>C22 C26</td>\n",
       "      <td>S</td>\n",
       "      <td>NaN</td>\n",
       "      <td>135.0</td>\n",
       "      <td>Montreal, PQ / Chesterville, ON</td>\n",
       "    </tr>\n",
       "    <tr>\n",
       "      <th>4</th>\n",
       "      <td>1</td>\n",
       "      <td>0</td>\n",
       "      <td>Allison, Mrs. Hudson J C (Bessie Waldo Daniels)</td>\n",
       "      <td>female</td>\n",
       "      <td>25.00</td>\n",
       "      <td>1</td>\n",
       "      <td>2</td>\n",
       "      <td>113781</td>\n",
       "      <td>151.5500</td>\n",
       "      <td>C22 C26</td>\n",
       "      <td>S</td>\n",
       "      <td>NaN</td>\n",
       "      <td>NaN</td>\n",
       "      <td>Montreal, PQ / Chesterville, ON</td>\n",
       "    </tr>\n",
       "  </tbody>\n",
       "</table>\n",
       "</div>"
      ],
      "text/plain": [
       "   pclass  survived                                             name     sex  \\\n",
       "0       1         1                    Allen, Miss. Elisabeth Walton  female   \n",
       "1       1         1                   Allison, Master. Hudson Trevor    male   \n",
       "2       1         0                     Allison, Miss. Helen Loraine  female   \n",
       "3       1         0             Allison, Mr. Hudson Joshua Creighton    male   \n",
       "4       1         0  Allison, Mrs. Hudson J C (Bessie Waldo Daniels)  female   \n",
       "\n",
       "     age  sibsp  parch  ticket      fare    cabin embarked boat   body  \\\n",
       "0  29.00      0      0   24160  211.3375       B5        S    2    NaN   \n",
       "1   0.92      1      2  113781  151.5500  C22 C26        S   11    NaN   \n",
       "2   2.00      1      2  113781  151.5500  C22 C26        S  NaN    NaN   \n",
       "3  30.00      1      2  113781  151.5500  C22 C26        S  NaN  135.0   \n",
       "4  25.00      1      2  113781  151.5500  C22 C26        S  NaN    NaN   \n",
       "\n",
       "                         home.dest  \n",
       "0                     St Louis, MO  \n",
       "1  Montreal, PQ / Chesterville, ON  \n",
       "2  Montreal, PQ / Chesterville, ON  \n",
       "3  Montreal, PQ / Chesterville, ON  \n",
       "4  Montreal, PQ / Chesterville, ON  "
      ]
     },
     "execution_count": 2,
     "metadata": {},
     "output_type": "execute_result"
    }
   ],
   "source": [
    "# 데이터 로딩 및 확인\n",
    "df = pd.read_csv('titanic.csv')\n",
    "df.head()"
   ]
  },
  {
   "cell_type": "code",
   "execution_count": 3,
   "id": "residential-quest",
   "metadata": {
    "ExecuteTime": {
     "end_time": "2022-04-27T14:42:24.340502Z",
     "start_time": "2022-04-27T14:42:24.246719Z"
    }
   },
   "outputs": [
    {
     "data": {
      "text/html": [
       "<div>\n",
       "<style scoped>\n",
       "    .dataframe tbody tr th:only-of-type {\n",
       "        vertical-align: middle;\n",
       "    }\n",
       "\n",
       "    .dataframe tbody tr th {\n",
       "        vertical-align: top;\n",
       "    }\n",
       "\n",
       "    .dataframe thead th {\n",
       "        text-align: right;\n",
       "    }\n",
       "</style>\n",
       "<table border=\"1\" class=\"dataframe\">\n",
       "  <thead>\n",
       "    <tr style=\"text-align: right;\">\n",
       "      <th></th>\n",
       "      <th>pclass</th>\n",
       "      <th>survived</th>\n",
       "      <th>age</th>\n",
       "      <th>sibsp</th>\n",
       "      <th>parch</th>\n",
       "      <th>fare</th>\n",
       "      <th>body</th>\n",
       "    </tr>\n",
       "  </thead>\n",
       "  <tbody>\n",
       "    <tr>\n",
       "      <th>count</th>\n",
       "      <td>1309.000000</td>\n",
       "      <td>1309.000000</td>\n",
       "      <td>1046.000000</td>\n",
       "      <td>1309.000000</td>\n",
       "      <td>1309.000000</td>\n",
       "      <td>1308.000000</td>\n",
       "      <td>121.000000</td>\n",
       "    </tr>\n",
       "    <tr>\n",
       "      <th>mean</th>\n",
       "      <td>2.294882</td>\n",
       "      <td>0.381971</td>\n",
       "      <td>29.881138</td>\n",
       "      <td>0.498854</td>\n",
       "      <td>0.385027</td>\n",
       "      <td>33.295479</td>\n",
       "      <td>160.809917</td>\n",
       "    </tr>\n",
       "    <tr>\n",
       "      <th>std</th>\n",
       "      <td>0.837836</td>\n",
       "      <td>0.486055</td>\n",
       "      <td>14.413493</td>\n",
       "      <td>1.041658</td>\n",
       "      <td>0.865560</td>\n",
       "      <td>51.758668</td>\n",
       "      <td>97.696922</td>\n",
       "    </tr>\n",
       "    <tr>\n",
       "      <th>min</th>\n",
       "      <td>1.000000</td>\n",
       "      <td>0.000000</td>\n",
       "      <td>0.170000</td>\n",
       "      <td>0.000000</td>\n",
       "      <td>0.000000</td>\n",
       "      <td>0.000000</td>\n",
       "      <td>1.000000</td>\n",
       "    </tr>\n",
       "    <tr>\n",
       "      <th>25%</th>\n",
       "      <td>2.000000</td>\n",
       "      <td>0.000000</td>\n",
       "      <td>21.000000</td>\n",
       "      <td>0.000000</td>\n",
       "      <td>0.000000</td>\n",
       "      <td>7.895800</td>\n",
       "      <td>72.000000</td>\n",
       "    </tr>\n",
       "    <tr>\n",
       "      <th>50%</th>\n",
       "      <td>3.000000</td>\n",
       "      <td>0.000000</td>\n",
       "      <td>28.000000</td>\n",
       "      <td>0.000000</td>\n",
       "      <td>0.000000</td>\n",
       "      <td>14.454200</td>\n",
       "      <td>155.000000</td>\n",
       "    </tr>\n",
       "    <tr>\n",
       "      <th>75%</th>\n",
       "      <td>3.000000</td>\n",
       "      <td>1.000000</td>\n",
       "      <td>39.000000</td>\n",
       "      <td>1.000000</td>\n",
       "      <td>0.000000</td>\n",
       "      <td>31.275000</td>\n",
       "      <td>256.000000</td>\n",
       "    </tr>\n",
       "    <tr>\n",
       "      <th>max</th>\n",
       "      <td>3.000000</td>\n",
       "      <td>1.000000</td>\n",
       "      <td>80.000000</td>\n",
       "      <td>8.000000</td>\n",
       "      <td>9.000000</td>\n",
       "      <td>512.329200</td>\n",
       "      <td>328.000000</td>\n",
       "    </tr>\n",
       "  </tbody>\n",
       "</table>\n",
       "</div>"
      ],
      "text/plain": [
       "            pclass     survived          age        sibsp        parch  \\\n",
       "count  1309.000000  1309.000000  1046.000000  1309.000000  1309.000000   \n",
       "mean      2.294882     0.381971    29.881138     0.498854     0.385027   \n",
       "std       0.837836     0.486055    14.413493     1.041658     0.865560   \n",
       "min       1.000000     0.000000     0.170000     0.000000     0.000000   \n",
       "25%       2.000000     0.000000    21.000000     0.000000     0.000000   \n",
       "50%       3.000000     0.000000    28.000000     0.000000     0.000000   \n",
       "75%       3.000000     1.000000    39.000000     1.000000     0.000000   \n",
       "max       3.000000     1.000000    80.000000     8.000000     9.000000   \n",
       "\n",
       "              fare        body  \n",
       "count  1308.000000  121.000000  \n",
       "mean     33.295479  160.809917  \n",
       "std      51.758668   97.696922  \n",
       "min       0.000000    1.000000  \n",
       "25%       7.895800   72.000000  \n",
       "50%      14.454200  155.000000  \n",
       "75%      31.275000  256.000000  \n",
       "max     512.329200  328.000000  "
      ]
     },
     "execution_count": 3,
     "metadata": {},
     "output_type": "execute_result"
    }
   ],
   "source": [
    "# 기초통계량 확인\n",
    "df.describe()"
   ]
  },
  {
   "cell_type": "code",
   "execution_count": 4,
   "id": "pregnant-exercise",
   "metadata": {
    "ExecuteTime": {
     "end_time": "2022-04-27T14:42:24.386381Z",
     "start_time": "2022-04-27T14:42:24.346544Z"
    }
   },
   "outputs": [
    {
     "data": {
      "text/plain": [
       "pclass          3\n",
       "survived        2\n",
       "name         1307\n",
       "sex             2\n",
       "age            98\n",
       "sibsp           7\n",
       "parch           8\n",
       "ticket        929\n",
       "fare          281\n",
       "cabin         186\n",
       "embarked        3\n",
       "boat           27\n",
       "body          121\n",
       "home.dest     369\n",
       "dtype: int64"
      ]
     },
     "execution_count": 4,
     "metadata": {},
     "output_type": "execute_result"
    }
   ],
   "source": [
    "# unique한 변수의 개수 세기\n",
    "df.nunique()"
   ]
  },
  {
   "cell_type": "markdown",
   "id": "prostate-nursing",
   "metadata": {
    "ExecuteTime": {
     "end_time": "2022-04-26T01:32:14.402130Z",
     "start_time": "2022-04-26T01:32:14.381184Z"
    }
   },
   "source": [
    "- 데이터 요약을 보았을 때 음수값이 들어가있는 데이터는 존재하지 않는다는 것을 알 수 있음(따로 처리할 필요 x)\n",
    "- survived, sex에 binary값이 잘 들어가있음을 알 수 있음\n",
    "- pclass, embarked는 3가지의 카테고리로 나뉜다는 것을 알 수 있음\n",
    "- 값 종류가 많은 age, fare는 범위별로 분류해 카테고리화하면 좋을 것 같다고 생각함"
   ]
  },
  {
   "cell_type": "markdown",
   "id": "employed-advertising",
   "metadata": {
    "ExecuteTime": {
     "end_time": "2022-04-26T01:15:46.981121Z",
     "start_time": "2022-04-26T01:15:46.963168Z"
    }
   },
   "source": [
    "### 변수 타입과 결측치 확인하기`"
   ]
  },
  {
   "cell_type": "markdown",
   "id": "environmental-degree",
   "metadata": {
    "ExecuteTime": {
     "end_time": "2022-04-26T01:17:12.010174Z",
     "start_time": "2022-04-26T01:17:11.992221Z"
    }
   },
   "source": [
    "- 목표변수 : survived\n",
    "- 설명변수 : pclass, name, sex, age, sibsp, parch, ticket, fare, cabin, embarked, boat, body, home.dest\n",
    "    \n",
    "EDA를 통해 생존에 영향을 미치는 잠재 인자를 도출해낸다."
   ]
  },
  {
   "cell_type": "code",
   "execution_count": 5,
   "id": "convenient-porter",
   "metadata": {
    "ExecuteTime": {
     "end_time": "2022-04-27T14:42:24.446222Z",
     "start_time": "2022-04-27T14:42:24.393363Z"
    }
   },
   "outputs": [
    {
     "name": "stdout",
     "output_type": "stream",
     "text": [
      "<class 'pandas.core.frame.DataFrame'>\n",
      "RangeIndex: 1309 entries, 0 to 1308\n",
      "Data columns (total 14 columns):\n",
      " #   Column     Non-Null Count  Dtype  \n",
      "---  ------     --------------  -----  \n",
      " 0   pclass     1309 non-null   int64  \n",
      " 1   survived   1309 non-null   int64  \n",
      " 2   name       1309 non-null   object \n",
      " 3   sex        1309 non-null   object \n",
      " 4   age        1046 non-null   float64\n",
      " 5   sibsp      1309 non-null   int64  \n",
      " 6   parch      1309 non-null   int64  \n",
      " 7   ticket     1309 non-null   object \n",
      " 8   fare       1308 non-null   float64\n",
      " 9   cabin      295 non-null    object \n",
      " 10  embarked   1307 non-null   object \n",
      " 11  boat       486 non-null    object \n",
      " 12  body       121 non-null    float64\n",
      " 13  home.dest  745 non-null    object \n",
      "dtypes: float64(3), int64(4), object(7)\n",
      "memory usage: 143.3+ KB\n"
     ]
    }
   ],
   "source": [
    "# 데이터 종류 확인하기\n",
    "df.info()"
   ]
  },
  {
   "cell_type": "markdown",
   "id": "offshore-crisis",
   "metadata": {},
   "source": [
    "각 작업을 거친 후 데이터에 대한 리포트 혹은 시각화를 통해 얻을 수 있는 정보를 기술 해봅니다.  \n",
    "위의 정보를 바탕으로 1309개의 샘플이 존재하지만 몇몇 개의 컬럼에는 결측치(비어있는 값)이 있음을 확인 할 수 있습니다.\n",
    "\n",
    "(1309, 14)의 크기를 갖는 데이터\n",
    "\n",
    "- name, sez, ticket, cabin, embarked, boat, home.dest 변수는 object형\n",
    "- pclass, survived, sibsp, parch 변수는 int형\n",
    "- age, fare, body 변수는 float형\n",
    "- age, fare, cabin, embarked, boat, body, home.dest에 결측치가 존재함\n",
    "- cabin, boat, body, home.dest에는 많은 결측치가 존재함"
   ]
  },
  {
   "cell_type": "code",
   "execution_count": 6,
   "id": "composite-renewal",
   "metadata": {
    "ExecuteTime": {
     "end_time": "2022-04-27T14:42:24.476194Z",
     "start_time": "2022-04-27T14:42:24.451209Z"
    }
   },
   "outputs": [
    {
     "data": {
      "text/plain": [
       "pclass          0\n",
       "survived        0\n",
       "name            0\n",
       "sex             0\n",
       "age           263\n",
       "sibsp           0\n",
       "parch           0\n",
       "ticket          0\n",
       "fare            1\n",
       "cabin        1014\n",
       "embarked        2\n",
       "boat          823\n",
       "body         1188\n",
       "home.dest     564\n",
       "dtype: int64"
      ]
     },
     "execution_count": 6,
     "metadata": {},
     "output_type": "execute_result"
    }
   ],
   "source": [
    "# 결측치 확인\n",
    "df.isna().sum()"
   ]
  },
  {
   "cell_type": "markdown",
   "id": "current-agent",
   "metadata": {},
   "source": [
    "- df.info()에서 확인한 것처럼 결측치가 많이 존재\n",
    "- 결측치가 존재하는 변수들을 전처리할 필요가 있음\n",
    "- 데이터를 확인한 후 전처리를 진행"
   ]
  },
  {
   "cell_type": "markdown",
   "id": "recorded-richardson",
   "metadata": {},
   "source": [
    "## 데이터 전처리"
   ]
  },
  {
   "cell_type": "code",
   "execution_count": 7,
   "id": "stainless-cleanup",
   "metadata": {
    "ExecuteTime": {
     "end_time": "2022-04-27T14:42:24.552909Z",
     "start_time": "2022-04-27T14:42:24.482177Z"
    }
   },
   "outputs": [
    {
     "data": {
      "text/html": [
       "<div>\n",
       "<style scoped>\n",
       "    .dataframe tbody tr th:only-of-type {\n",
       "        vertical-align: middle;\n",
       "    }\n",
       "\n",
       "    .dataframe tbody tr th {\n",
       "        vertical-align: top;\n",
       "    }\n",
       "\n",
       "    .dataframe thead th {\n",
       "        text-align: right;\n",
       "    }\n",
       "</style>\n",
       "<table border=\"1\" class=\"dataframe\">\n",
       "  <thead>\n",
       "    <tr style=\"text-align: right;\">\n",
       "      <th></th>\n",
       "      <th>pclass</th>\n",
       "      <th>survived</th>\n",
       "      <th>name</th>\n",
       "      <th>sex</th>\n",
       "      <th>age</th>\n",
       "      <th>sibsp</th>\n",
       "      <th>parch</th>\n",
       "      <th>ticket</th>\n",
       "      <th>fare</th>\n",
       "      <th>cabin</th>\n",
       "      <th>embarked</th>\n",
       "      <th>boat</th>\n",
       "      <th>body</th>\n",
       "      <th>home.dest</th>\n",
       "    </tr>\n",
       "  </thead>\n",
       "  <tbody>\n",
       "    <tr>\n",
       "      <th>0</th>\n",
       "      <td>1</td>\n",
       "      <td>1</td>\n",
       "      <td>Allen, Miss. Elisabeth Walton</td>\n",
       "      <td>female</td>\n",
       "      <td>29.00</td>\n",
       "      <td>0</td>\n",
       "      <td>0</td>\n",
       "      <td>24160</td>\n",
       "      <td>211.3375</td>\n",
       "      <td>B5</td>\n",
       "      <td>S</td>\n",
       "      <td>2</td>\n",
       "      <td>NaN</td>\n",
       "      <td>St Louis, MO</td>\n",
       "    </tr>\n",
       "    <tr>\n",
       "      <th>1</th>\n",
       "      <td>1</td>\n",
       "      <td>1</td>\n",
       "      <td>Allison, Master. Hudson Trevor</td>\n",
       "      <td>male</td>\n",
       "      <td>0.92</td>\n",
       "      <td>1</td>\n",
       "      <td>2</td>\n",
       "      <td>113781</td>\n",
       "      <td>151.5500</td>\n",
       "      <td>C22 C26</td>\n",
       "      <td>S</td>\n",
       "      <td>11</td>\n",
       "      <td>NaN</td>\n",
       "      <td>Montreal, PQ / Chesterville, ON</td>\n",
       "    </tr>\n",
       "    <tr>\n",
       "      <th>2</th>\n",
       "      <td>1</td>\n",
       "      <td>0</td>\n",
       "      <td>Allison, Miss. Helen Loraine</td>\n",
       "      <td>female</td>\n",
       "      <td>2.00</td>\n",
       "      <td>1</td>\n",
       "      <td>2</td>\n",
       "      <td>113781</td>\n",
       "      <td>151.5500</td>\n",
       "      <td>C22 C26</td>\n",
       "      <td>S</td>\n",
       "      <td>NaN</td>\n",
       "      <td>NaN</td>\n",
       "      <td>Montreal, PQ / Chesterville, ON</td>\n",
       "    </tr>\n",
       "    <tr>\n",
       "      <th>3</th>\n",
       "      <td>1</td>\n",
       "      <td>0</td>\n",
       "      <td>Allison, Mr. Hudson Joshua Creighton</td>\n",
       "      <td>male</td>\n",
       "      <td>30.00</td>\n",
       "      <td>1</td>\n",
       "      <td>2</td>\n",
       "      <td>113781</td>\n",
       "      <td>151.5500</td>\n",
       "      <td>C22 C26</td>\n",
       "      <td>S</td>\n",
       "      <td>NaN</td>\n",
       "      <td>135.0</td>\n",
       "      <td>Montreal, PQ / Chesterville, ON</td>\n",
       "    </tr>\n",
       "    <tr>\n",
       "      <th>4</th>\n",
       "      <td>1</td>\n",
       "      <td>0</td>\n",
       "      <td>Allison, Mrs. Hudson J C (Bessie Waldo Daniels)</td>\n",
       "      <td>female</td>\n",
       "      <td>25.00</td>\n",
       "      <td>1</td>\n",
       "      <td>2</td>\n",
       "      <td>113781</td>\n",
       "      <td>151.5500</td>\n",
       "      <td>C22 C26</td>\n",
       "      <td>S</td>\n",
       "      <td>NaN</td>\n",
       "      <td>NaN</td>\n",
       "      <td>Montreal, PQ / Chesterville, ON</td>\n",
       "    </tr>\n",
       "    <tr>\n",
       "      <th>5</th>\n",
       "      <td>1</td>\n",
       "      <td>1</td>\n",
       "      <td>Anderson, Mr. Harry</td>\n",
       "      <td>male</td>\n",
       "      <td>48.00</td>\n",
       "      <td>0</td>\n",
       "      <td>0</td>\n",
       "      <td>19952</td>\n",
       "      <td>26.5500</td>\n",
       "      <td>E12</td>\n",
       "      <td>S</td>\n",
       "      <td>3</td>\n",
       "      <td>NaN</td>\n",
       "      <td>New York, NY</td>\n",
       "    </tr>\n",
       "    <tr>\n",
       "      <th>6</th>\n",
       "      <td>1</td>\n",
       "      <td>1</td>\n",
       "      <td>Andrews, Miss. Kornelia Theodosia</td>\n",
       "      <td>female</td>\n",
       "      <td>63.00</td>\n",
       "      <td>1</td>\n",
       "      <td>0</td>\n",
       "      <td>13502</td>\n",
       "      <td>77.9583</td>\n",
       "      <td>D7</td>\n",
       "      <td>S</td>\n",
       "      <td>10</td>\n",
       "      <td>NaN</td>\n",
       "      <td>Hudson, NY</td>\n",
       "    </tr>\n",
       "    <tr>\n",
       "      <th>7</th>\n",
       "      <td>1</td>\n",
       "      <td>0</td>\n",
       "      <td>Andrews, Mr. Thomas Jr</td>\n",
       "      <td>male</td>\n",
       "      <td>39.00</td>\n",
       "      <td>0</td>\n",
       "      <td>0</td>\n",
       "      <td>112050</td>\n",
       "      <td>0.0000</td>\n",
       "      <td>A36</td>\n",
       "      <td>S</td>\n",
       "      <td>NaN</td>\n",
       "      <td>NaN</td>\n",
       "      <td>Belfast, NI</td>\n",
       "    </tr>\n",
       "    <tr>\n",
       "      <th>8</th>\n",
       "      <td>1</td>\n",
       "      <td>1</td>\n",
       "      <td>Appleton, Mrs. Edward Dale (Charlotte Lamson)</td>\n",
       "      <td>female</td>\n",
       "      <td>53.00</td>\n",
       "      <td>2</td>\n",
       "      <td>0</td>\n",
       "      <td>11769</td>\n",
       "      <td>51.4792</td>\n",
       "      <td>C101</td>\n",
       "      <td>S</td>\n",
       "      <td>D</td>\n",
       "      <td>NaN</td>\n",
       "      <td>Bayside, Queens, NY</td>\n",
       "    </tr>\n",
       "    <tr>\n",
       "      <th>9</th>\n",
       "      <td>1</td>\n",
       "      <td>0</td>\n",
       "      <td>Artagaveytia, Mr. Ramon</td>\n",
       "      <td>male</td>\n",
       "      <td>71.00</td>\n",
       "      <td>0</td>\n",
       "      <td>0</td>\n",
       "      <td>PC 17609</td>\n",
       "      <td>49.5042</td>\n",
       "      <td>NaN</td>\n",
       "      <td>C</td>\n",
       "      <td>NaN</td>\n",
       "      <td>22.0</td>\n",
       "      <td>Montevideo, Uruguay</td>\n",
       "    </tr>\n",
       "    <tr>\n",
       "      <th>10</th>\n",
       "      <td>1</td>\n",
       "      <td>0</td>\n",
       "      <td>Astor, Col. John Jacob</td>\n",
       "      <td>male</td>\n",
       "      <td>47.00</td>\n",
       "      <td>1</td>\n",
       "      <td>0</td>\n",
       "      <td>PC 17757</td>\n",
       "      <td>227.5250</td>\n",
       "      <td>C62 C64</td>\n",
       "      <td>C</td>\n",
       "      <td>NaN</td>\n",
       "      <td>124.0</td>\n",
       "      <td>New York, NY</td>\n",
       "    </tr>\n",
       "    <tr>\n",
       "      <th>11</th>\n",
       "      <td>1</td>\n",
       "      <td>1</td>\n",
       "      <td>Astor, Mrs. John Jacob (Madeleine Talmadge Force)</td>\n",
       "      <td>female</td>\n",
       "      <td>18.00</td>\n",
       "      <td>1</td>\n",
       "      <td>0</td>\n",
       "      <td>PC 17757</td>\n",
       "      <td>227.5250</td>\n",
       "      <td>C62 C64</td>\n",
       "      <td>C</td>\n",
       "      <td>4</td>\n",
       "      <td>NaN</td>\n",
       "      <td>New York, NY</td>\n",
       "    </tr>\n",
       "    <tr>\n",
       "      <th>12</th>\n",
       "      <td>1</td>\n",
       "      <td>1</td>\n",
       "      <td>Aubart, Mme. Leontine Pauline</td>\n",
       "      <td>female</td>\n",
       "      <td>24.00</td>\n",
       "      <td>0</td>\n",
       "      <td>0</td>\n",
       "      <td>PC 17477</td>\n",
       "      <td>69.3000</td>\n",
       "      <td>B35</td>\n",
       "      <td>C</td>\n",
       "      <td>9</td>\n",
       "      <td>NaN</td>\n",
       "      <td>Paris, France</td>\n",
       "    </tr>\n",
       "    <tr>\n",
       "      <th>13</th>\n",
       "      <td>1</td>\n",
       "      <td>1</td>\n",
       "      <td>Barber, Miss. Ellen \"Nellie\"</td>\n",
       "      <td>female</td>\n",
       "      <td>26.00</td>\n",
       "      <td>0</td>\n",
       "      <td>0</td>\n",
       "      <td>19877</td>\n",
       "      <td>78.8500</td>\n",
       "      <td>NaN</td>\n",
       "      <td>S</td>\n",
       "      <td>6</td>\n",
       "      <td>NaN</td>\n",
       "      <td>NaN</td>\n",
       "    </tr>\n",
       "    <tr>\n",
       "      <th>14</th>\n",
       "      <td>1</td>\n",
       "      <td>1</td>\n",
       "      <td>Barkworth, Mr. Algernon Henry Wilson</td>\n",
       "      <td>male</td>\n",
       "      <td>80.00</td>\n",
       "      <td>0</td>\n",
       "      <td>0</td>\n",
       "      <td>27042</td>\n",
       "      <td>30.0000</td>\n",
       "      <td>A23</td>\n",
       "      <td>S</td>\n",
       "      <td>B</td>\n",
       "      <td>NaN</td>\n",
       "      <td>Hessle, Yorks</td>\n",
       "    </tr>\n",
       "  </tbody>\n",
       "</table>\n",
       "</div>"
      ],
      "text/plain": [
       "    pclass  survived                                               name  \\\n",
       "0        1         1                      Allen, Miss. Elisabeth Walton   \n",
       "1        1         1                     Allison, Master. Hudson Trevor   \n",
       "2        1         0                       Allison, Miss. Helen Loraine   \n",
       "3        1         0               Allison, Mr. Hudson Joshua Creighton   \n",
       "4        1         0    Allison, Mrs. Hudson J C (Bessie Waldo Daniels)   \n",
       "5        1         1                                Anderson, Mr. Harry   \n",
       "6        1         1                  Andrews, Miss. Kornelia Theodosia   \n",
       "7        1         0                             Andrews, Mr. Thomas Jr   \n",
       "8        1         1      Appleton, Mrs. Edward Dale (Charlotte Lamson)   \n",
       "9        1         0                            Artagaveytia, Mr. Ramon   \n",
       "10       1         0                             Astor, Col. John Jacob   \n",
       "11       1         1  Astor, Mrs. John Jacob (Madeleine Talmadge Force)   \n",
       "12       1         1                      Aubart, Mme. Leontine Pauline   \n",
       "13       1         1                       Barber, Miss. Ellen \"Nellie\"   \n",
       "14       1         1               Barkworth, Mr. Algernon Henry Wilson   \n",
       "\n",
       "       sex    age  sibsp  parch    ticket      fare    cabin embarked boat  \\\n",
       "0   female  29.00      0      0     24160  211.3375       B5        S    2   \n",
       "1     male   0.92      1      2    113781  151.5500  C22 C26        S   11   \n",
       "2   female   2.00      1      2    113781  151.5500  C22 C26        S  NaN   \n",
       "3     male  30.00      1      2    113781  151.5500  C22 C26        S  NaN   \n",
       "4   female  25.00      1      2    113781  151.5500  C22 C26        S  NaN   \n",
       "5     male  48.00      0      0     19952   26.5500      E12        S    3   \n",
       "6   female  63.00      1      0     13502   77.9583       D7        S   10   \n",
       "7     male  39.00      0      0    112050    0.0000      A36        S  NaN   \n",
       "8   female  53.00      2      0     11769   51.4792     C101        S    D   \n",
       "9     male  71.00      0      0  PC 17609   49.5042      NaN        C  NaN   \n",
       "10    male  47.00      1      0  PC 17757  227.5250  C62 C64        C  NaN   \n",
       "11  female  18.00      1      0  PC 17757  227.5250  C62 C64        C    4   \n",
       "12  female  24.00      0      0  PC 17477   69.3000      B35        C    9   \n",
       "13  female  26.00      0      0     19877   78.8500      NaN        S    6   \n",
       "14    male  80.00      0      0     27042   30.0000      A23        S    B   \n",
       "\n",
       "     body                        home.dest  \n",
       "0     NaN                     St Louis, MO  \n",
       "1     NaN  Montreal, PQ / Chesterville, ON  \n",
       "2     NaN  Montreal, PQ / Chesterville, ON  \n",
       "3   135.0  Montreal, PQ / Chesterville, ON  \n",
       "4     NaN  Montreal, PQ / Chesterville, ON  \n",
       "5     NaN                     New York, NY  \n",
       "6     NaN                       Hudson, NY  \n",
       "7     NaN                      Belfast, NI  \n",
       "8     NaN              Bayside, Queens, NY  \n",
       "9    22.0              Montevideo, Uruguay  \n",
       "10  124.0                     New York, NY  \n",
       "11    NaN                     New York, NY  \n",
       "12    NaN                    Paris, France  \n",
       "13    NaN                              NaN  \n",
       "14    NaN                    Hessle, Yorks  "
      ]
     },
     "execution_count": 7,
     "metadata": {},
     "output_type": "execute_result"
    }
   ],
   "source": [
    "# 데이터 15개만을 먼저 뽑아 데이터를 살펴보기\n",
    "df.head(15)"
   ]
  },
  {
   "cell_type": "markdown",
   "id": "stunning-laptop",
   "metadata": {},
   "source": [
    "- 데이터를 보았을 때 전처리 해야할 것 확인\n",
    "1. age, fare에 존재하는 결측치를 처리해야 한다.\n",
    "2. age는 값 종류가 많기 때문에 분류를 하여 카테고리를 만들기로함\n",
    "3. cabin과 embarked, boat, body, home.dest에 존재하는 결측치를 처리해야함\n",
    "    - N이라는 새로운 값을 생성하여 그 값으로 대체시켜줌\n",
    "4. cabin은 선실번호임으로 특징이 있을 것이라고 생각. -> 이 특징을 잡아서 변수를 다시 정의\n",
    "5. sex, cabin, embarked는 object type의 변수들인데 머신러닝 알고리즘을 돌리기 전에 이것들을 label encoding하여 속성을 숫자형으로 바꾸는 작업이 필요하다. 그렇지만 이번 시간에는 EDA를 하여 데이터에 대한 이해를 하는 것이 목적이기 때문에 수행하지 않는다."
   ]
  },
  {
   "cell_type": "markdown",
   "id": "finished-tennessee",
   "metadata": {
    "ExecuteTime": {
     "end_time": "2022-04-26T01:58:11.907913Z",
     "start_time": "2022-04-26T01:58:11.901935Z"
    }
   },
   "source": [
    "### age, fare에 존재하는 결측치 처리"
   ]
  },
  {
   "cell_type": "code",
   "execution_count": 8,
   "id": "devoted-physiology",
   "metadata": {
    "ExecuteTime": {
     "end_time": "2022-04-27T14:42:25.989497Z",
     "start_time": "2022-04-27T14:42:24.557729Z"
    }
   },
   "outputs": [
    {
     "data": {
      "text/plain": [
       "<AxesSubplot:title={'center':'fare'}>"
      ]
     },
     "execution_count": 8,
     "metadata": {},
     "output_type": "execute_result"
    },
    {
     "data": {
      "image/png": "[encoded data removed]",
      "text/plain": [
       "<Figure size 864x432 with 2 Axes>"
      ]
     },
     "metadata": {
      "needs_background": "light"
     },
     "output_type": "display_data"
    }
   ],
   "source": [
    "fig = plt.figure(figsize=(12,6))\n",
    "# age histogram\n",
    "graph1 = fig.add_subplot(1,2,1)\n",
    "graph1.set_title('age')\n",
    "df['age'].hist(ax=graph1)\n",
    "\n",
    "# fare histogram\n",
    "graph2 = fig.add_subplot(1,2,2)\n",
    "graph2.set_title('fare')\n",
    "df['fare'].hist(ax=graph2)"
   ]
  },
  {
   "cell_type": "markdown",
   "id": "optional-configuration",
   "metadata": {
    "ExecuteTime": {
     "end_time": "2022-04-26T02:27:48.003179Z",
     "start_time": "2022-04-26T02:27:47.978249Z"
    }
   },
   "source": [
    "- 이 두 히스토그램을 살펴봤을 때 age는 비교적 데이터가 정규분포를 그리고 있지만 fare는 데이터가 한쪽으로 많이 치우쳐저 있기 때문에 age의 결측값은 평균을 채워넣을 수 있지만 fare의 결측값에는 최빈값을 넣는 것이 더 좋다."
   ]
  },
  {
   "cell_type": "code",
   "execution_count": 9,
   "id": "athletic-paper",
   "metadata": {
    "ExecuteTime": {
     "end_time": "2022-04-27T14:42:26.004421Z",
     "start_time": "2022-04-27T14:42:25.994448Z"
    }
   },
   "outputs": [],
   "source": [
    "# age, fare 결측치 평균값으로 대체\n",
    "df['age'].fillna(df['age'].mean(), inplace=True)\n",
    "df['fare'].fillna(df['fare'].median(), inplace=True)"
   ]
  },
  {
   "cell_type": "code",
   "execution_count": 10,
   "id": "protective-comparative",
   "metadata": {
    "ExecuteTime": {
     "end_time": "2022-04-27T14:42:26.050626Z",
     "start_time": "2022-04-27T14:42:26.011005Z"
    }
   },
   "outputs": [
    {
     "data": {
      "text/plain": [
       "pclass          0\n",
       "survived        0\n",
       "name            0\n",
       "sex             0\n",
       "age             0\n",
       "sibsp           0\n",
       "parch           0\n",
       "ticket          0\n",
       "fare            0\n",
       "cabin        1014\n",
       "embarked        2\n",
       "boat          823\n",
       "body         1188\n",
       "home.dest     564\n",
       "dtype: int64"
      ]
     },
     "execution_count": 10,
     "metadata": {},
     "output_type": "execute_result"
    }
   ],
   "source": [
    "df.isna().sum()\n",
    "# age, fare의 결측치 처리 완료"
   ]
  },
  {
   "cell_type": "markdown",
   "id": "first-table",
   "metadata": {},
   "source": [
    "### age 카테고리화"
   ]
  },
  {
   "cell_type": "code",
   "execution_count": 11,
   "id": "liked-thanksgiving",
   "metadata": {
    "ExecuteTime": {
     "end_time": "2022-04-27T14:42:26.095532Z",
     "start_time": "2022-04-27T14:42:26.057592Z"
    }
   },
   "outputs": [],
   "source": [
    "# age를 카테고리화 하는 함수 생성\n",
    "# 0보다 작은 값-> unknown, 5이하 -> baby, 12이하 -> child, 18이하 -> teenager, 25이하 -> student, 35이하-> young adult, 60이하 -> adult, 그 이상-> elderly\n",
    "def get_category(age):\n",
    "    cat = ''\n",
    "    if age <= -1: cat = 'Unknown'\n",
    "    elif age <= 5: cat = 'Baby'\n",
    "    elif age <= 12: cat = 'Child'\n",
    "    elif age <= 18: cat = 'Teenager'\n",
    "    elif age <= 25: cat = 'Student'\n",
    "    elif age <= 35: cat = 'Young Adult'\n",
    "    elif age <= 60: cat = 'Adult'\n",
    "    else : cat = 'Elderly'\n",
    "    \n",
    "    return cat\n",
    "\n",
    "# 카테고리화한 Age_cat이라는 변수 새로 생성\n",
    "df['age_cat'] = df['age'].apply(lambda x : get_category(x))"
   ]
  },
  {
   "cell_type": "markdown",
   "id": "formal-athens",
   "metadata": {},
   "source": [
    "### cabin, embarked, boat, body, home.dest 결측치 처리"
   ]
  },
  {
   "cell_type": "code",
   "execution_count": 12,
   "id": "present-literature",
   "metadata": {
    "ExecuteTime": {
     "end_time": "2022-04-27T14:42:26.140366Z",
     "start_time": "2022-04-27T14:42:26.099520Z"
    }
   },
   "outputs": [],
   "source": [
    "df['cabin'].fillna('N', inplace=True)\n",
    "df['embarked'].fillna('N', inplace=True)\n",
    "df['boat'].fillna('N', inplace=True)\n",
    "df['body'].fillna('N', inplace=True)\n",
    "df['home.dest'].fillna('N', inplace=True)"
   ]
  },
  {
   "cell_type": "code",
   "execution_count": 13,
   "id": "fiscal-orbit",
   "metadata": {
    "ExecuteTime": {
     "end_time": "2022-04-27T14:42:26.185775Z",
     "start_time": "2022-04-27T14:42:26.146343Z"
    }
   },
   "outputs": [
    {
     "data": {
      "text/plain": [
       "pclass       0\n",
       "survived     0\n",
       "name         0\n",
       "sex          0\n",
       "age          0\n",
       "sibsp        0\n",
       "parch        0\n",
       "ticket       0\n",
       "fare         0\n",
       "cabin        0\n",
       "embarked     0\n",
       "boat         0\n",
       "body         0\n",
       "home.dest    0\n",
       "age_cat      0\n",
       "dtype: int64"
      ]
     },
     "execution_count": 13,
     "metadata": {},
     "output_type": "execute_result"
    }
   ],
   "source": [
    "df.isna().sum()\n",
    "# cabin, embarked, boat, body, home.dest의 결측치 처리 완료"
   ]
  },
  {
   "cell_type": "markdown",
   "id": "homeless-scroll",
   "metadata": {
    "ExecuteTime": {
     "end_time": "2022-04-26T02:44:10.011230Z",
     "start_time": "2022-04-26T02:44:10.005252Z"
    }
   },
   "source": [
    "### cabin(선실) 속성을 통한 처리"
   ]
  },
  {
   "cell_type": "code",
   "execution_count": 14,
   "id": "diverse-parker",
   "metadata": {
    "ExecuteTime": {
     "end_time": "2022-04-27T14:42:26.215592Z",
     "start_time": "2022-04-27T14:42:26.198653Z"
    }
   },
   "outputs": [
    {
     "name": "stdout",
     "output_type": "stream",
     "text": [
      "\n",
      " Cabin 값 분포 :\n",
      " N                  1014\n",
      "C23 C25 C27           6\n",
      "G6                    5\n",
      "B57 B59 B63 B66       5\n",
      "C22 C26               4\n",
      "                   ... \n",
      "E63                   1\n",
      "B102                  1\n",
      "B39                   1\n",
      "D40                   1\n",
      "F38                   1\n",
      "Name: cabin, Length: 187, dtype: int64\n"
     ]
    }
   ],
   "source": [
    "print('\\n Cabin 값 분포 :\\n', df['cabin'].value_counts())"
   ]
  },
  {
   "cell_type": "markdown",
   "id": "authentic-grenada",
   "metadata": {},
   "source": [
    "- 선실 뒤의 번호는 별로 중요하지 않고 알파벳이 중요해보임\n",
    "- 가장 앞 문자만 추출하여 변수에 저장"
   ]
  },
  {
   "cell_type": "code",
   "execution_count": 15,
   "id": "communist-suspension",
   "metadata": {
    "ExecuteTime": {
     "end_time": "2022-04-27T14:42:26.246031Z",
     "start_time": "2022-04-27T14:42:26.224203Z"
    }
   },
   "outputs": [
    {
     "name": "stdout",
     "output_type": "stream",
     "text": [
      "0    B\n",
      "1    C\n",
      "2    C\n",
      "3    C\n",
      "4    C\n",
      "Name: cabin, dtype: object\n"
     ]
    }
   ],
   "source": [
    "df['cabin'] = df['cabin'].str[:1]\n",
    "print(df['cabin'].head()) # 앞 문자만 잘 들어갔음을 확인"
   ]
  },
  {
   "cell_type": "markdown",
   "id": "normal-pavilion",
   "metadata": {},
   "source": [
    "### sibsp, parch를 사용한 속성 생성"
   ]
  },
  {
   "cell_type": "markdown",
   "id": "offensive-apple",
   "metadata": {},
   "source": [
    "- sibsp와 parch 모두 가족 수에 대한 데이터이므로 이것으로 새로운 속성을 하나 또 생성해보기로함\n",
    "- 가족이 1명이라도 있는 사람과 그렇지 않은 사람은 생존율에 차이가 있을 것이라고 생각하여 새로운 속성을 생성\n",
    "- sibsp와 parch가 모두 없는 데이터와 sibsp와 parch 중 하나라도 있는 데이터로 나누어서 분석을 해보고자함"
   ]
  },
  {
   "cell_type": "code",
   "execution_count": 16,
   "id": "rolled-advocacy",
   "metadata": {
    "ExecuteTime": {
     "end_time": "2022-04-27T14:42:26.306245Z",
     "start_time": "2022-04-27T14:42:26.250019Z"
    }
   },
   "outputs": [
    {
     "data": {
      "text/html": [
       "<div>\n",
       "<style scoped>\n",
       "    .dataframe tbody tr th:only-of-type {\n",
       "        vertical-align: middle;\n",
       "    }\n",
       "\n",
       "    .dataframe tbody tr th {\n",
       "        vertical-align: top;\n",
       "    }\n",
       "\n",
       "    .dataframe thead th {\n",
       "        text-align: right;\n",
       "    }\n",
       "</style>\n",
       "<table border=\"1\" class=\"dataframe\">\n",
       "  <thead>\n",
       "    <tr style=\"text-align: right;\">\n",
       "      <th></th>\n",
       "      <th>pclass</th>\n",
       "      <th>survived</th>\n",
       "      <th>name</th>\n",
       "      <th>sex</th>\n",
       "      <th>age</th>\n",
       "      <th>sibsp</th>\n",
       "      <th>parch</th>\n",
       "      <th>ticket</th>\n",
       "      <th>fare</th>\n",
       "      <th>cabin</th>\n",
       "      <th>embarked</th>\n",
       "      <th>boat</th>\n",
       "      <th>body</th>\n",
       "      <th>home.dest</th>\n",
       "      <th>age_cat</th>\n",
       "      <th>family</th>\n",
       "    </tr>\n",
       "  </thead>\n",
       "  <tbody>\n",
       "    <tr>\n",
       "      <th>0</th>\n",
       "      <td>1</td>\n",
       "      <td>1</td>\n",
       "      <td>Allen, Miss. Elisabeth Walton</td>\n",
       "      <td>female</td>\n",
       "      <td>29.000000</td>\n",
       "      <td>0</td>\n",
       "      <td>0</td>\n",
       "      <td>24160</td>\n",
       "      <td>211.3375</td>\n",
       "      <td>B</td>\n",
       "      <td>S</td>\n",
       "      <td>2</td>\n",
       "      <td>N</td>\n",
       "      <td>St Louis, MO</td>\n",
       "      <td>Young Adult</td>\n",
       "      <td>0</td>\n",
       "    </tr>\n",
       "    <tr>\n",
       "      <th>1</th>\n",
       "      <td>1</td>\n",
       "      <td>1</td>\n",
       "      <td>Allison, Master. Hudson Trevor</td>\n",
       "      <td>male</td>\n",
       "      <td>0.920000</td>\n",
       "      <td>1</td>\n",
       "      <td>2</td>\n",
       "      <td>113781</td>\n",
       "      <td>151.5500</td>\n",
       "      <td>C</td>\n",
       "      <td>S</td>\n",
       "      <td>11</td>\n",
       "      <td>N</td>\n",
       "      <td>Montreal, PQ / Chesterville, ON</td>\n",
       "      <td>Baby</td>\n",
       "      <td>1</td>\n",
       "    </tr>\n",
       "    <tr>\n",
       "      <th>2</th>\n",
       "      <td>1</td>\n",
       "      <td>0</td>\n",
       "      <td>Allison, Miss. Helen Loraine</td>\n",
       "      <td>female</td>\n",
       "      <td>2.000000</td>\n",
       "      <td>1</td>\n",
       "      <td>2</td>\n",
       "      <td>113781</td>\n",
       "      <td>151.5500</td>\n",
       "      <td>C</td>\n",
       "      <td>S</td>\n",
       "      <td>N</td>\n",
       "      <td>N</td>\n",
       "      <td>Montreal, PQ / Chesterville, ON</td>\n",
       "      <td>Baby</td>\n",
       "      <td>1</td>\n",
       "    </tr>\n",
       "    <tr>\n",
       "      <th>3</th>\n",
       "      <td>1</td>\n",
       "      <td>0</td>\n",
       "      <td>Allison, Mr. Hudson Joshua Creighton</td>\n",
       "      <td>male</td>\n",
       "      <td>30.000000</td>\n",
       "      <td>1</td>\n",
       "      <td>2</td>\n",
       "      <td>113781</td>\n",
       "      <td>151.5500</td>\n",
       "      <td>C</td>\n",
       "      <td>S</td>\n",
       "      <td>N</td>\n",
       "      <td>135.0</td>\n",
       "      <td>Montreal, PQ / Chesterville, ON</td>\n",
       "      <td>Young Adult</td>\n",
       "      <td>1</td>\n",
       "    </tr>\n",
       "    <tr>\n",
       "      <th>4</th>\n",
       "      <td>1</td>\n",
       "      <td>0</td>\n",
       "      <td>Allison, Mrs. Hudson J C (Bessie Waldo Daniels)</td>\n",
       "      <td>female</td>\n",
       "      <td>25.000000</td>\n",
       "      <td>1</td>\n",
       "      <td>2</td>\n",
       "      <td>113781</td>\n",
       "      <td>151.5500</td>\n",
       "      <td>C</td>\n",
       "      <td>S</td>\n",
       "      <td>N</td>\n",
       "      <td>N</td>\n",
       "      <td>Montreal, PQ / Chesterville, ON</td>\n",
       "      <td>Student</td>\n",
       "      <td>1</td>\n",
       "    </tr>\n",
       "    <tr>\n",
       "      <th>...</th>\n",
       "      <td>...</td>\n",
       "      <td>...</td>\n",
       "      <td>...</td>\n",
       "      <td>...</td>\n",
       "      <td>...</td>\n",
       "      <td>...</td>\n",
       "      <td>...</td>\n",
       "      <td>...</td>\n",
       "      <td>...</td>\n",
       "      <td>...</td>\n",
       "      <td>...</td>\n",
       "      <td>...</td>\n",
       "      <td>...</td>\n",
       "      <td>...</td>\n",
       "      <td>...</td>\n",
       "      <td>...</td>\n",
       "    </tr>\n",
       "    <tr>\n",
       "      <th>1304</th>\n",
       "      <td>3</td>\n",
       "      <td>0</td>\n",
       "      <td>Zabour, Miss. Hileni</td>\n",
       "      <td>female</td>\n",
       "      <td>14.500000</td>\n",
       "      <td>1</td>\n",
       "      <td>0</td>\n",
       "      <td>2665</td>\n",
       "      <td>14.4542</td>\n",
       "      <td>N</td>\n",
       "      <td>C</td>\n",
       "      <td>N</td>\n",
       "      <td>328.0</td>\n",
       "      <td>N</td>\n",
       "      <td>Teenager</td>\n",
       "      <td>1</td>\n",
       "    </tr>\n",
       "    <tr>\n",
       "      <th>1305</th>\n",
       "      <td>3</td>\n",
       "      <td>0</td>\n",
       "      <td>Zabour, Miss. Thamine</td>\n",
       "      <td>female</td>\n",
       "      <td>29.881138</td>\n",
       "      <td>1</td>\n",
       "      <td>0</td>\n",
       "      <td>2665</td>\n",
       "      <td>14.4542</td>\n",
       "      <td>N</td>\n",
       "      <td>C</td>\n",
       "      <td>N</td>\n",
       "      <td>N</td>\n",
       "      <td>N</td>\n",
       "      <td>Young Adult</td>\n",
       "      <td>1</td>\n",
       "    </tr>\n",
       "    <tr>\n",
       "      <th>1306</th>\n",
       "      <td>3</td>\n",
       "      <td>0</td>\n",
       "      <td>Zakarian, Mr. Mapriededer</td>\n",
       "      <td>male</td>\n",
       "      <td>26.500000</td>\n",
       "      <td>0</td>\n",
       "      <td>0</td>\n",
       "      <td>2656</td>\n",
       "      <td>7.2250</td>\n",
       "      <td>N</td>\n",
       "      <td>C</td>\n",
       "      <td>N</td>\n",
       "      <td>304.0</td>\n",
       "      <td>N</td>\n",
       "      <td>Young Adult</td>\n",
       "      <td>0</td>\n",
       "    </tr>\n",
       "    <tr>\n",
       "      <th>1307</th>\n",
       "      <td>3</td>\n",
       "      <td>0</td>\n",
       "      <td>Zakarian, Mr. Ortin</td>\n",
       "      <td>male</td>\n",
       "      <td>27.000000</td>\n",
       "      <td>0</td>\n",
       "      <td>0</td>\n",
       "      <td>2670</td>\n",
       "      <td>7.2250</td>\n",
       "      <td>N</td>\n",
       "      <td>C</td>\n",
       "      <td>N</td>\n",
       "      <td>N</td>\n",
       "      <td>N</td>\n",
       "      <td>Young Adult</td>\n",
       "      <td>0</td>\n",
       "    </tr>\n",
       "    <tr>\n",
       "      <th>1308</th>\n",
       "      <td>3</td>\n",
       "      <td>0</td>\n",
       "      <td>Zimmerman, Mr. Leo</td>\n",
       "      <td>male</td>\n",
       "      <td>29.000000</td>\n",
       "      <td>0</td>\n",
       "      <td>0</td>\n",
       "      <td>315082</td>\n",
       "      <td>7.8750</td>\n",
       "      <td>N</td>\n",
       "      <td>S</td>\n",
       "      <td>N</td>\n",
       "      <td>N</td>\n",
       "      <td>N</td>\n",
       "      <td>Young Adult</td>\n",
       "      <td>0</td>\n",
       "    </tr>\n",
       "  </tbody>\n",
       "</table>\n",
       "<p>1309 rows × 16 columns</p>\n",
       "</div>"
      ],
      "text/plain": [
       "      pclass  survived                                             name  \\\n",
       "0          1         1                    Allen, Miss. Elisabeth Walton   \n",
       "1          1         1                   Allison, Master. Hudson Trevor   \n",
       "2          1         0                     Allison, Miss. Helen Loraine   \n",
       "3          1         0             Allison, Mr. Hudson Joshua Creighton   \n",
       "4          1         0  Allison, Mrs. Hudson J C (Bessie Waldo Daniels)   \n",
       "...      ...       ...                                              ...   \n",
       "1304       3         0                             Zabour, Miss. Hileni   \n",
       "1305       3         0                            Zabour, Miss. Thamine   \n",
       "1306       3         0                        Zakarian, Mr. Mapriededer   \n",
       "1307       3         0                              Zakarian, Mr. Ortin   \n",
       "1308       3         0                               Zimmerman, Mr. Leo   \n",
       "\n",
       "         sex        age  sibsp  parch  ticket      fare cabin embarked boat  \\\n",
       "0     female  29.000000      0      0   24160  211.3375     B        S    2   \n",
       "1       male   0.920000      1      2  113781  151.5500     C        S   11   \n",
       "2     female   2.000000      1      2  113781  151.5500     C        S    N   \n",
       "3       male  30.000000      1      2  113781  151.5500     C        S    N   \n",
       "4     female  25.000000      1      2  113781  151.5500     C        S    N   \n",
       "...      ...        ...    ...    ...     ...       ...   ...      ...  ...   \n",
       "1304  female  14.500000      1      0    2665   14.4542     N        C    N   \n",
       "1305  female  29.881138      1      0    2665   14.4542     N        C    N   \n",
       "1306    male  26.500000      0      0    2656    7.2250     N        C    N   \n",
       "1307    male  27.000000      0      0    2670    7.2250     N        C    N   \n",
       "1308    male  29.000000      0      0  315082    7.8750     N        S    N   \n",
       "\n",
       "       body                        home.dest      age_cat  family  \n",
       "0         N                     St Louis, MO  Young Adult       0  \n",
       "1         N  Montreal, PQ / Chesterville, ON         Baby       1  \n",
       "2         N  Montreal, PQ / Chesterville, ON         Baby       1  \n",
       "3     135.0  Montreal, PQ / Chesterville, ON  Young Adult       1  \n",
       "4         N  Montreal, PQ / Chesterville, ON      Student       1  \n",
       "...     ...                              ...          ...     ...  \n",
       "1304  328.0                                N     Teenager       1  \n",
       "1305      N                                N  Young Adult       1  \n",
       "1306  304.0                                N  Young Adult       0  \n",
       "1307      N                                N  Young Adult       0  \n",
       "1308      N                                N  Young Adult       0  \n",
       "\n",
       "[1309 rows x 16 columns]"
      ]
     },
     "execution_count": 16,
     "metadata": {},
     "output_type": "execute_result"
    }
   ],
   "source": [
    "# sibsp가 0이고 parch가 0인 사람들은 family가 0 그렇지 않은 사람은 family를 1로 저장함\n",
    "df['family'] = np.where((df['sibsp']==0)&(df['parch']==0),0,1)        \n",
    "df"
   ]
  },
  {
   "cell_type": "markdown",
   "id": "vertical-cattle",
   "metadata": {},
   "source": [
    "## 전체 데이터 살펴보기"
   ]
  },
  {
   "cell_type": "code",
   "execution_count": 17,
   "id": "alone-despite",
   "metadata": {
    "ExecuteTime": {
     "end_time": "2022-04-27T14:42:28.709393Z",
     "start_time": "2022-04-27T14:42:26.312230Z"
    }
   },
   "outputs": [
    {
     "data": {
      "image/png": "[encoded data removed]",
      "text/plain": [
       "<Figure size 720x720 with 9 Axes>"
      ]
     },
     "metadata": {
      "needs_background": "light"
     },
     "output_type": "display_data"
    }
   ],
   "source": [
    "df.hist(figsize=(10,10))\n",
    "pyplot.show()"
   ]
  },
  {
   "cell_type": "markdown",
   "id": "funky-capital",
   "metadata": {},
   "source": [
    "- parch와 sibsp는 0인 자료의 수가 가장 많다. \n",
    "- fare는 대부분이 100이하에 분포해있고 500이상의 아주 큰 데이터도 존재한다.\n",
    "- pclass가 3등급인 데이터의 수가 가장 많고 그 다음으로 1등급 2등급 순이다.\n",
    "- 죽은 사람(0)보다 산 사람(1)이 더 많다.\n",
    "\n",
    "<br>\n",
    "가설 세워보기\n",
    "\n",
    "1. 객실 등급에 따라서 생존율이 달랐을 것이다.\n",
    "2. 나이에 따라서 생존율이 달랐을 것이다.\n",
    "3. 성별에 따라서 생존율이 달랐을 것이다.\n",
    "4. 형제 수 또는 자녀의 수에 따라서 생존율이 달랐을 것이다.\n",
    "5. 지불한 운임에 따라서 생존율이 달랐을 것이다.\n",
    "6. 선착장 정보에 따라서 생존율이 달랐을 것이다."
   ]
  },
  {
   "cell_type": "markdown",
   "id": "vanilla-purchase",
   "metadata": {},
   "source": [
    "## 전체 생존률 살펴보기"
   ]
  },
  {
   "cell_type": "code",
   "execution_count": 18,
   "id": "operational-johnson",
   "metadata": {
    "ExecuteTime": {
     "end_time": "2022-04-27T14:42:29.117801Z",
     "start_time": "2022-04-27T14:42:28.714334Z"
    }
   },
   "outputs": [
    {
     "data": {
      "text/plain": [
       "<AxesSubplot:xlabel='survived', ylabel='count'>"
      ]
     },
     "execution_count": 18,
     "metadata": {},
     "output_type": "execute_result"
    },
    {
     "data": {
      "image/png": "[encoded data removed]",
      "text/plain": [
       "<Figure size 432x288 with 1 Axes>"
      ]
     },
     "metadata": {
      "needs_background": "light"
     },
     "output_type": "display_data"
    }
   ],
   "source": [
    "# 전체 데이터 중 죽은 사람과 산 사람의 비율\n",
    "sns.countplot(x='survived', data=df)"
   ]
  },
  {
   "cell_type": "markdown",
   "id": "sufficient-biodiversity",
   "metadata": {},
   "source": [
    "### 성별에 따른 생존율"
   ]
  },
  {
   "cell_type": "code",
   "execution_count": 19,
   "id": "banned-produce",
   "metadata": {
    "ExecuteTime": {
     "end_time": "2022-04-27T14:42:29.498533Z",
     "start_time": "2022-04-27T14:42:29.122444Z"
    }
   },
   "outputs": [
    {
     "data": {
      "text/plain": [
       "<AxesSubplot:xlabel='sex', ylabel='count'>"
      ]
     },
     "execution_count": 19,
     "metadata": {},
     "output_type": "execute_result"
    },
    {
     "data": {
      "image/png": "[encoded data removed]",
      "text/plain": [
       "<Figure size 432x288 with 1 Axes>"
      ]
     },
     "metadata": {
      "needs_background": "light"
     },
     "output_type": "display_data"
    }
   ],
   "source": [
    "# 전체 데이터 중 여자, 남자 비율\n",
    "sns.countplot(x='sex', data=df)"
   ]
  },
  {
   "cell_type": "code",
   "execution_count": 20,
   "id": "answering-brisbane",
   "metadata": {
    "ExecuteTime": {
     "end_time": "2022-04-27T14:42:30.749609Z",
     "start_time": "2022-04-27T14:42:29.502949Z"
    }
   },
   "outputs": [
    {
     "data": {
      "image/png": "[encoded data removed]",
      "text/plain": [
       "<Figure size 720x360 with 2 Axes>"
      ]
     },
     "metadata": {
      "needs_background": "light"
     },
     "output_type": "display_data"
    }
   ],
   "source": [
    "# 죽은 사람 중 남,여 수, 산 사람 중 남,여 수\n",
    "sns.catplot(x='sex', col='survived', kind='count', data=df);"
   ]
  },
  {
   "cell_type": "code",
   "execution_count": 21,
   "id": "boolean-facility",
   "metadata": {
    "ExecuteTime": {
     "end_time": "2022-04-27T14:42:30.779520Z",
     "start_time": "2022-04-27T14:42:30.754594Z"
    }
   },
   "outputs": [
    {
     "data": {
      "text/plain": [
       "survived  sex   \n",
       "0         female    127\n",
       "          male      682\n",
       "1         female    339\n",
       "          male      161\n",
       "Name: survived, dtype: int64"
      ]
     },
     "execution_count": 21,
     "metadata": {},
     "output_type": "execute_result"
    }
   ],
   "source": [
    "# 생존여부와 성별을 통한 그룹화\n",
    "df.groupby(['survived','sex'])['survived'].count()"
   ]
  },
  {
   "cell_type": "markdown",
   "id": "expired-interpretation",
   "metadata": {},
   "source": [
    "- 죽은 사람 중에서는 남자가 많았고 산 사람 중에서는 여자가 많았다.\n",
    "- 전체 데이터는 남자 데이터가 더 많지만 여자가 더 많이 살아남았다."
   ]
  },
  {
   "cell_type": "code",
   "execution_count": 22,
   "id": "differential-planet",
   "metadata": {
    "ExecuteTime": {
     "end_time": "2022-04-27T14:42:31.526461Z",
     "start_time": "2022-04-27T14:42:30.784822Z"
    }
   },
   "outputs": [
    {
     "data": {
      "image/png": "[encoded data removed]",
      "text/plain": [
       "<Figure size 1152x504 with 2 Axes>"
      ]
     },
     "metadata": {},
     "output_type": "display_data"
    }
   ],
   "source": [
    "# 남자 중 몇 %가 살았는지, 여자 중 몇 %가 살았는지 알아보기 위해서 pie chart 그리기\n",
    "f,ax=plt.subplots(1,2,figsize=(16,7))\n",
    "df['survived'][df['sex']=='male'].value_counts().plot.pie(explode=[0,0.2],autopct='%1.1f%%',ax=ax[0],shadow=True)\n",
    "df['survived'][df['sex']=='female'].value_counts().plot.pie(explode=[0,0.2],autopct='%1.1f%%',ax=ax[1],shadow=True)\n",
    "ax[0].set_title('survived (male)')\n",
    "ax[1].set_title('survived (female)')\n",
    "\n",
    "plt.show()"
   ]
  },
  {
   "cell_type": "markdown",
   "id": "hourly-aspect",
   "metadata": {},
   "source": [
    "- 남자의 81%는 죽었고, 여자의 72.7%는 살았다."
   ]
  },
  {
   "cell_type": "markdown",
   "id": "apparent-provision",
   "metadata": {},
   "source": [
    "### Pclass 별"
   ]
  },
  {
   "cell_type": "code",
   "execution_count": 23,
   "id": "hundred-balance",
   "metadata": {
    "ExecuteTime": {
     "end_time": "2022-04-27T14:42:31.905570Z",
     "start_time": "2022-04-27T14:42:31.531338Z"
    }
   },
   "outputs": [
    {
     "data": {
      "text/plain": [
       "<AxesSubplot:xlabel='pclass', ylabel='count'>"
      ]
     },
     "execution_count": 23,
     "metadata": {},
     "output_type": "execute_result"
    },
    {
     "data": {
      "image/png": "[encoded data removed]",
      "text/plain": [
       "<Figure size 432x288 with 1 Axes>"
      ]
     },
     "metadata": {
      "needs_background": "light"
     },
     "output_type": "display_data"
    }
   ],
   "source": [
    "# 전체 데이터 중 죽은 사람과 산 사람의 비율\n",
    "sns.countplot(x='pclass', data=df)"
   ]
  },
  {
   "cell_type": "code",
   "execution_count": 24,
   "id": "cutting-spouse",
   "metadata": {
    "ExecuteTime": {
     "end_time": "2022-04-27T14:42:32.661258Z",
     "start_time": "2022-04-27T14:42:31.910555Z"
    }
   },
   "outputs": [
    {
     "data": {
      "image/png": "[encoded data removed]",
      "text/plain": [
       "<Figure size 720x360 with 2 Axes>"
      ]
     },
     "metadata": {
      "needs_background": "light"
     },
     "output_type": "display_data"
    }
   ],
   "source": [
    "# 죽은 사람 중 1,2,3 등급 수, 산 사람 중 1,2,3 등급수\n",
    "sns.catplot(x='pclass', col='survived', kind='count', data=df);"
   ]
  },
  {
   "cell_type": "code",
   "execution_count": 25,
   "id": "informed-positive",
   "metadata": {
    "ExecuteTime": {
     "end_time": "2022-04-27T14:42:32.691661Z",
     "start_time": "2022-04-27T14:42:32.665719Z"
    }
   },
   "outputs": [
    {
     "data": {
      "text/plain": [
       "survived  pclass\n",
       "0         1         123\n",
       "          2         158\n",
       "          3         528\n",
       "1         1         200\n",
       "          2         119\n",
       "          3         181\n",
       "Name: survived, dtype: int64"
      ]
     },
     "execution_count": 25,
     "metadata": {},
     "output_type": "execute_result"
    }
   ],
   "source": [
    "# 생존여부와 등급을 통한 그룹화\n",
    "df.groupby(['survived','pclass'])['survived'].count()"
   ]
  },
  {
   "cell_type": "code",
   "execution_count": 26,
   "id": "suited-bronze",
   "metadata": {
    "ExecuteTime": {
     "end_time": "2022-04-27T14:42:33.554553Z",
     "start_time": "2022-04-27T14:42:32.697063Z"
    }
   },
   "outputs": [
    {
     "data": {
      "image/png": "[encoded data removed]",
      "text/plain": [
       "<Figure size 1296x504 with 3 Axes>"
      ]
     },
     "metadata": {},
     "output_type": "display_data"
    }
   ],
   "source": [
    "# 남자 중 몇 %가 살았는지, 여자 중 몇 %가 살았는지 알아보기 위해서 pie chart 그리기\n",
    "f,ax=plt.subplots(1,3,figsize=(18,7))\n",
    "df['survived'][df['pclass']==1].value_counts().plot.pie(autopct='%1.1f%%',ax=ax[0],shadow=True)\n",
    "df['survived'][df['pclass']==2].value_counts().plot.pie(autopct='%1.1f%%',ax=ax[1],shadow=True)\n",
    "df['survived'][df['pclass']==3].value_counts().plot.pie(autopct='%1.1f%%',ax=ax[2],shadow=True)\n",
    "ax[0].set_title('survived (class1)')\n",
    "ax[1].set_title('survived (class2)')\n",
    "ax[2].set_title('survived (class3)')\n",
    "\n",
    "plt.show()"
   ]
  },
  {
   "cell_type": "code",
   "execution_count": 27,
   "id": "tight-vessel",
   "metadata": {
    "ExecuteTime": {
     "end_time": "2022-04-27T14:42:34.362563Z",
     "start_time": "2022-04-27T14:42:33.559679Z"
    }
   },
   "outputs": [
    {
     "name": "stderr",
     "output_type": "stream",
     "text": [
      "C:\\Users\\codud\\anaconda3\\lib\\site-packages\\seaborn\\_decorators.py:36: FutureWarning: Pass the following variables as keyword args: x, y. From version 0.12, the only valid positional argument will be `data`, and passing other arguments without an explicit keyword will result in an error or misinterpretation.\n",
      "  warnings.warn(\n"
     ]
    },
    {
     "data": {
      "image/png": "[encoded data removed]",
      "text/plain": [
       "<Figure size 360x360 with 1 Axes>"
      ]
     },
     "metadata": {
      "needs_background": "light"
     },
     "output_type": "display_data"
    }
   ],
   "source": [
    "sns.catplot('pclass','survived', kind='point', data=df);"
   ]
  },
  {
   "cell_type": "markdown",
   "id": "absent-search",
   "metadata": {},
   "source": [
    "- 1등급의 61.9%는 살았고, 2등급의 43%가 살았고, 3등급의 25%가 살았다.\n",
    "- 3등급으로 갈수록 생존율이 급격하게 떨어지는 것을 볼 수 있다."
   ]
  },
  {
   "cell_type": "markdown",
   "id": "preliminary-syria",
   "metadata": {},
   "source": [
    "### 나이별"
   ]
  },
  {
   "cell_type": "code",
   "execution_count": 28,
   "id": "desperate-crown",
   "metadata": {
    "ExecuteTime": {
     "end_time": "2022-04-27T14:42:34.802249Z",
     "start_time": "2022-04-27T14:42:34.367526Z"
    }
   },
   "outputs": [
    {
     "data": {
      "text/plain": [
       "<AxesSubplot:xlabel='age_cat', ylabel='count'>"
      ]
     },
     "execution_count": 28,
     "metadata": {},
     "output_type": "execute_result"
    },
    {
     "data": {
      "image/png": "[encoded data removed]",
      "text/plain": [
       "<Figure size 432x288 with 1 Axes>"
      ]
     },
     "metadata": {
      "needs_background": "light"
     },
     "output_type": "display_data"
    }
   ],
   "source": [
    "# age_cat의 데이터 분포 살펴보기\n",
    "sns.countplot(x='age_cat', data=df)"
   ]
  },
  {
   "cell_type": "code",
   "execution_count": 29,
   "id": "numeric-mortality",
   "metadata": {
    "ExecuteTime": {
     "end_time": "2022-04-27T14:42:34.832268Z",
     "start_time": "2022-04-27T14:42:34.808330Z"
    }
   },
   "outputs": [
    {
     "data": {
      "text/plain": [
       "survived  age_cat    \n",
       "0         Adult          170\n",
       "          Baby            19\n",
       "          Child           21\n",
       "          Elderly         25\n",
       "          Student        157\n",
       "          Teenager        58\n",
       "          Young Adult    359\n",
       "1         Adult          119\n",
       "          Baby            37\n",
       "          Child           17\n",
       "          Elderly          8\n",
       "          Student         93\n",
       "          Teenager        41\n",
       "          Young Adult    185\n",
       "Name: survived, dtype: int64"
      ]
     },
     "execution_count": 29,
     "metadata": {},
     "output_type": "execute_result"
    }
   ],
   "source": [
    "# 생존여부와 나이 카테고리를 통한 그룹화\n",
    "df.groupby(['survived','age_cat'])['survived'].count()"
   ]
  },
  {
   "cell_type": "code",
   "execution_count": 30,
   "id": "recent-software",
   "metadata": {
    "ExecuteTime": {
     "end_time": "2022-04-27T14:42:36.029233Z",
     "start_time": "2022-04-27T14:42:34.838686Z"
    }
   },
   "outputs": [
    {
     "data": {
      "text/plain": [
       "<AxesSubplot:xlabel='age_cat', ylabel='survived'>"
      ]
     },
     "execution_count": 30,
     "metadata": {},
     "output_type": "execute_result"
    },
    {
     "data": {
      "image/png": "[encoded data removed]",
      "text/plain": [
       "<Figure size 432x288 with 1 Axes>"
      ]
     },
     "metadata": {
      "needs_background": "light"
     },
     "output_type": "display_data"
    }
   ],
   "source": [
    "# 나이대별 살아남은 수 확인하기\n",
    "group_names = ['Unknown','Baby','Child','Teenager','Student','Young Adult','Adult','Elderly']\n",
    "sns.barplot(x='age_cat',y='survived',data=df, order=group_names)"
   ]
  },
  {
   "cell_type": "code",
   "execution_count": 31,
   "id": "entire-murder",
   "metadata": {
    "ExecuteTime": {
     "end_time": "2022-04-27T14:42:37.767980Z",
     "start_time": "2022-04-27T14:42:36.034215Z"
    }
   },
   "outputs": [
    {
     "data": {
      "text/plain": [
       "<AxesSubplot:xlabel='age_cat', ylabel='survived'>"
      ]
     },
     "execution_count": 31,
     "metadata": {},
     "output_type": "execute_result"
    },
    {
     "data": {
      "image/png": "[encoded data removed]",
      "text/plain": [
       "<Figure size 432x288 with 1 Axes>"
      ]
     },
     "metadata": {
      "needs_background": "light"
     },
     "output_type": "display_data"
    }
   ],
   "source": [
    "# 나이대, 성별 별 살아남은 수 확인하기\n",
    "group_names = ['Unknown','Baby','Child','Teenager','Student','Young Adult','Adult','Elderly']\n",
    "sns.barplot(x='age_cat',y='survived',hue='sex', data=df, order=group_names)"
   ]
  },
  {
   "cell_type": "code",
   "execution_count": 32,
   "id": "hungry-ghana",
   "metadata": {
    "ExecuteTime": {
     "end_time": "2022-04-27T14:42:38.447219Z",
     "start_time": "2022-04-27T14:42:37.772969Z"
    }
   },
   "outputs": [
    {
     "data": {
      "text/plain": [
       "<matplotlib.legend.Legend at 0x1afa6acbd90>"
      ]
     },
     "execution_count": 32,
     "metadata": {},
     "output_type": "execute_result"
    },
    {
     "data": {
      "image/png": "[encoded data removed]",
      "text/plain": [
       "<Figure size 432x288 with 1 Axes>"
      ]
     },
     "metadata": {
      "needs_background": "light"
     },
     "output_type": "display_data"
    }
   ],
   "source": [
    "# 연령별 생존한 사람과 생존하지 못한 사람 비교\n",
    "plt.hist(df[df['survived']==0]['age'], label = '생존', alpha=0.5)\n",
    "plt.hist(df[df['survived']==1]['age'], label = '생존x', alpha=0.5)\n",
    "plt.legend()"
   ]
  },
  {
   "cell_type": "markdown",
   "id": "noted-shade",
   "metadata": {},
   "source": [
    "- 나이가 어린 사람들이 상대적으로 나이가 많은 사람들보다 많이 살아남았다.\n",
    "- Baby는 살아남은 비율이 0.7에 가깝지만 Elderly는 살아남은 비율이 0.3에 미치지 못한다.\n",
    "- 나이와 성별을 함께 그래프로 보았을 때 Baby와 Child에서는 성별 차이가 거의 나지 않지만 Teenager부터는 남자가 훨씬 많이 죽었다.\n",
    "- 연령별 생존한 사람과 생존하지 못한 사람을 비교해 보았을 때, 30~40대에 특이하게 생존한 사람이 많은 것을 볼 수 있었다."
   ]
  },
  {
   "cell_type": "markdown",
   "id": "round-distribution",
   "metadata": {},
   "source": [
    "### 부부 혹은 형제 수 별"
   ]
  },
  {
   "cell_type": "code",
   "execution_count": 33,
   "id": "approximate-attempt",
   "metadata": {
    "ExecuteTime": {
     "end_time": "2022-04-27T14:42:38.857451Z",
     "start_time": "2022-04-27T14:42:38.451070Z"
    }
   },
   "outputs": [
    {
     "data": {
      "text/plain": [
       "<AxesSubplot:xlabel='sibsp', ylabel='count'>"
      ]
     },
     "execution_count": 33,
     "metadata": {},
     "output_type": "execute_result"
    },
    {
     "data": {
      "image/png": "[encoded data removed]",
      "text/plain": [
       "<Figure size 432x288 with 1 Axes>"
      ]
     },
     "metadata": {
      "needs_background": "light"
     },
     "output_type": "display_data"
    }
   ],
   "source": [
    "# 부부 혹은 형제 수 별 죽은 사람과 산 사람의 비율\n",
    "sns.countplot(x='sibsp', data=df)"
   ]
  },
  {
   "cell_type": "code",
   "execution_count": 34,
   "id": "blind-potato",
   "metadata": {
    "ExecuteTime": {
     "end_time": "2022-04-27T14:42:38.887641Z",
     "start_time": "2022-04-27T14:42:38.861384Z"
    }
   },
   "outputs": [
    {
     "data": {
      "text/plain": [
       "survived  sibsp\n",
       "0         0        582\n",
       "          1        156\n",
       "          2         23\n",
       "          3         14\n",
       "          4         19\n",
       "          5          6\n",
       "          8          9\n",
       "1         0        309\n",
       "          1        163\n",
       "          2         19\n",
       "          3          6\n",
       "          4          3\n",
       "Name: survived, dtype: int64"
      ]
     },
     "execution_count": 34,
     "metadata": {},
     "output_type": "execute_result"
    }
   ],
   "source": [
    "# 생존여부와 부부 혹은 형제 수 카테고리를 통한 그룹화\n",
    "df.groupby(['survived','sibsp'])['survived'].count()"
   ]
  },
  {
   "cell_type": "code",
   "execution_count": 35,
   "id": "incident-flour",
   "metadata": {
    "ExecuteTime": {
     "end_time": "2022-04-27T14:42:39.781302Z",
     "start_time": "2022-04-27T14:42:38.891631Z"
    }
   },
   "outputs": [
    {
     "data": {
      "image/png": "[encoded data removed]",
      "text/plain": [
       "<Figure size 720x360 with 2 Axes>"
      ]
     },
     "metadata": {
      "needs_background": "light"
     },
     "output_type": "display_data"
    }
   ],
   "source": [
    "# 죽은 사람 중 부부 혹은 형제 수, 산 사람 중 부부 혹은 형제 수\n",
    "sns.catplot(x='sibsp', col='survived', kind='count', data=df);"
   ]
  },
  {
   "cell_type": "code",
   "execution_count": 36,
   "id": "elementary-library",
   "metadata": {
    "ExecuteTime": {
     "end_time": "2022-04-27T14:42:41.007887Z",
     "start_time": "2022-04-27T14:42:39.786518Z"
    }
   },
   "outputs": [
    {
     "name": "stderr",
     "output_type": "stream",
     "text": [
      "C:\\Users\\codud\\anaconda3\\lib\\site-packages\\seaborn\\_decorators.py:36: FutureWarning: Pass the following variables as keyword args: x, y. From version 0.12, the only valid positional argument will be `data`, and passing other arguments without an explicit keyword will result in an error or misinterpretation.\n",
      "  warnings.warn(\n"
     ]
    },
    {
     "data": {
      "image/png": "[encoded data removed]",
      "text/plain": [
       "<Figure size 360x360 with 1 Axes>"
      ]
     },
     "metadata": {
      "needs_background": "light"
     },
     "output_type": "display_data"
    }
   ],
   "source": [
    "sns.catplot('sibsp','survived', kind='point', data=df);"
   ]
  },
  {
   "cell_type": "markdown",
   "id": "abroad-saver",
   "metadata": {},
   "source": [
    "- 부부 혹은 형제 수가 0명인 사람의 비율이 압도적으로 많다.\n",
    "- 죽은 사람들 중에서 부부 혹은 형제 수가 0인 사람이 산 사람 중에서 부부 혹은 형제 수가 0인 사람보다 많다.\n",
    "- 부부 혹은 형제 수가 1명일 때의 생존율이 가장 높고 부부 혹은 형제 수가 5명일 때와 8명일 때는 모두 죽었다."
   ]
  },
  {
   "cell_type": "markdown",
   "id": "fixed-patio",
   "metadata": {},
   "source": [
    "### 가족 존재여부 별"
   ]
  },
  {
   "cell_type": "code",
   "execution_count": 37,
   "id": "noted-consultancy",
   "metadata": {
    "ExecuteTime": {
     "end_time": "2022-04-27T14:42:41.477229Z",
     "start_time": "2022-04-27T14:42:41.013868Z"
    }
   },
   "outputs": [
    {
     "data": {
      "text/plain": [
       "<AxesSubplot:xlabel='family', ylabel='count'>"
      ]
     },
     "execution_count": 37,
     "metadata": {},
     "output_type": "execute_result"
    },
    {
     "data": {
      "image/png": "[encoded data removed]",
      "text/plain": [
       "<Figure size 432x288 with 1 Axes>"
      ]
     },
     "metadata": {
      "needs_background": "light"
     },
     "output_type": "display_data"
    }
   ],
   "source": [
    "# 전체 데이터 중 가족이 한 명이라도 있는 사람과 없는 사람의 수\n",
    "sns.countplot(x='family', data=df)"
   ]
  },
  {
   "cell_type": "code",
   "execution_count": 38,
   "id": "affecting-landscape",
   "metadata": {
    "ExecuteTime": {
     "end_time": "2022-04-27T14:42:42.757308Z",
     "start_time": "2022-04-27T14:42:41.482218Z"
    }
   },
   "outputs": [
    {
     "name": "stderr",
     "output_type": "stream",
     "text": [
      "C:\\Users\\codud\\anaconda3\\lib\\site-packages\\seaborn\\_decorators.py:36: FutureWarning: Pass the following variables as keyword args: x, y. From version 0.12, the only valid positional argument will be `data`, and passing other arguments without an explicit keyword will result in an error or misinterpretation.\n",
      "  warnings.warn(\n"
     ]
    },
    {
     "data": {
      "image/png": "[encoded data removed]",
      "text/plain": [
       "<Figure size 360x360 with 1 Axes>"
      ]
     },
     "metadata": {
      "needs_background": "light"
     },
     "output_type": "display_data"
    }
   ],
   "source": [
    "sns.catplot('family','survived', kind='point', data=df);"
   ]
  },
  {
   "cell_type": "code",
   "execution_count": 39,
   "id": "coral-avatar",
   "metadata": {
    "ExecuteTime": {
     "end_time": "2022-04-27T14:42:43.575594Z",
     "start_time": "2022-04-27T14:42:42.761215Z"
    }
   },
   "outputs": [
    {
     "data": {
      "image/png": "[encoded data removed]",
      "text/plain": [
       "<Figure size 1152x504 with 2 Axes>"
      ]
     },
     "metadata": {},
     "output_type": "display_data"
    }
   ],
   "source": [
    "# 가족과 함께 타지 않은 사람들 중 몇 %가 살았는지, 가족과 함께 탄 사람들 중 몇 %가 살았는지 알아보기 위해서 pie chart 그리기\n",
    "f,ax=plt.subplots(1,2,figsize=(16,7))\n",
    "df['survived'][df['family']==0].value_counts().plot.pie(explode=[0,0.2],autopct='%1.1f%%',ax=ax[0],shadow=True)\n",
    "df['survived'][df['family']==1].value_counts().plot.pie(explode=[0,0.2],autopct='%1.1f%%',ax=ax[1],shadow=True)\n",
    "ax[0].set_title('survived (family x)')\n",
    "ax[1].set_title('survived (family o)')\n",
    "\n",
    "plt.show()"
   ]
  },
  {
   "cell_type": "markdown",
   "id": "flush-fancy",
   "metadata": {},
   "source": [
    "- 전체 데이터 중 가족과 함께 타지 않은 사람의 수는 가족과 함께 탄 사람의 수보다 많았다.\n",
    "- 가족과 함께 타지 않은 사람의 생존율은 30.3%이고, 가족과 함께 탄 사람의 생존율은 50.3%이다.\n",
    "- 가족과 함께 타지 않은 사람은 가족과 함께 탄 사람보다 더 많이 죽었다."
   ]
  },
  {
   "cell_type": "markdown",
   "id": "industrial-metro",
   "metadata": {},
   "source": [
    "### 지불한 운임 별"
   ]
  },
  {
   "cell_type": "code",
   "execution_count": 40,
   "id": "twelve-third",
   "metadata": {
    "ExecuteTime": {
     "end_time": "2022-04-27T14:42:47.423729Z",
     "start_time": "2022-04-27T14:42:43.583574Z"
    }
   },
   "outputs": [
    {
     "name": "stderr",
     "output_type": "stream",
     "text": [
      "C:\\Users\\codud\\anaconda3\\lib\\site-packages\\seaborn\\distributions.py:2557: FutureWarning: `distplot` is a deprecated function and will be removed in a future version. Please adapt your code to use either `displot` (a figure-level function with similar flexibility) or `histplot` (an axes-level function for histograms).\n",
      "  warnings.warn(msg, FutureWarning)\n"
     ]
    },
    {
     "data": {
      "image/png": "[encoded data removed]",
      "text/plain": [
       "<Figure size 432x288 with 1 Axes>"
      ]
     },
     "metadata": {
      "needs_background": "light"
     },
     "output_type": "display_data"
    }
   ],
   "source": [
    "sns.distplot(df['fare']);"
   ]
  },
  {
   "cell_type": "code",
   "execution_count": 41,
   "id": "roman-inquiry",
   "metadata": {
    "ExecuteTime": {
     "end_time": "2022-04-27T14:42:48.277938Z",
     "start_time": "2022-04-27T14:42:47.429891Z"
    }
   },
   "outputs": [
    {
     "data": {
      "text/plain": [
       "<matplotlib.legend.Legend at 0x1afa70c98b0>"
      ]
     },
     "execution_count": 41,
     "metadata": {},
     "output_type": "execute_result"
    },
    {
     "data": {
      "image/png": "[encoded data removed]",
      "text/plain": [
       "<Figure size 432x288 with 1 Axes>"
      ]
     },
     "metadata": {
      "needs_background": "light"
     },
     "output_type": "display_data"
    }
   ],
   "source": [
    "plt.hist(df[df['survived']==0]['fare'], label = '생존', alpha=0.5)\n",
    "plt.hist(df[df['survived']==1]['fare'], label = '생존x', alpha=0.5)\n",
    "plt.legend()"
   ]
  },
  {
   "cell_type": "markdown",
   "id": "twenty-address",
   "metadata": {},
   "source": [
    "- 한쪽으로 치우쳐진 분포를 그리고 있는 것을 볼 수 있다. \n",
    "- 데이터는 대부분 지불 운임이 100이하에만 존재하고 있다.\n",
    "- 매우 적은 운임을 지불한 사람들 중에는 생존한 사람이 생존하지 못한 사람보다 더 많다.\n",
    "- 데이터의 분포를 보았을 때 500에 가까운 데이터는 outlier일 것이라고 의심해 볼 수 있을 것이라고 생각했다."
   ]
  },
  {
   "cell_type": "markdown",
   "id": "fuzzy-adult",
   "metadata": {},
   "source": [
    "### 선착장 정보 별"
   ]
  },
  {
   "cell_type": "code",
   "execution_count": 42,
   "id": "finnish-violence",
   "metadata": {
    "ExecuteTime": {
     "end_time": "2022-04-27T14:42:48.701736Z",
     "start_time": "2022-04-27T14:42:48.283835Z"
    }
   },
   "outputs": [
    {
     "data": {
      "text/plain": [
       "<AxesSubplot:xlabel='embarked', ylabel='count'>"
      ]
     },
     "execution_count": 42,
     "metadata": {},
     "output_type": "execute_result"
    },
    {
     "data": {
      "image/png": "[encoded data removed]",
      "text/plain": [
       "<Figure size 432x288 with 1 Axes>"
      ]
     },
     "metadata": {
      "needs_background": "light"
     },
     "output_type": "display_data"
    }
   ],
   "source": [
    "# embarked의 데이터 분포 살펴보기\n",
    "sns.countplot(x='embarked', data=df)"
   ]
  },
  {
   "cell_type": "code",
   "execution_count": 43,
   "id": "wooden-sensitivity",
   "metadata": {
    "ExecuteTime": {
     "end_time": "2022-04-27T14:42:48.731942Z",
     "start_time": "2022-04-27T14:42:48.706722Z"
    }
   },
   "outputs": [
    {
     "data": {
      "text/plain": [
       "survived  embarked\n",
       "0         C           120\n",
       "          Q            79\n",
       "          S           610\n",
       "1         C           150\n",
       "          N             2\n",
       "          Q            44\n",
       "          S           304\n",
       "Name: survived, dtype: int64"
      ]
     },
     "execution_count": 43,
     "metadata": {},
     "output_type": "execute_result"
    }
   ],
   "source": [
    "# 생존여부와 선착장 정보를 통한 그룹화\n",
    "df.groupby(['survived','embarked'])['survived'].count()"
   ]
  },
  {
   "cell_type": "code",
   "execution_count": 44,
   "id": "designing-citizenship",
   "metadata": {
    "ExecuteTime": {
     "end_time": "2022-04-27T14:42:49.486893Z",
     "start_time": "2022-04-27T14:42:48.736146Z"
    }
   },
   "outputs": [
    {
     "data": {
      "text/plain": [
       "<AxesSubplot:xlabel='embarked', ylabel='survived'>"
      ]
     },
     "execution_count": 44,
     "metadata": {},
     "output_type": "execute_result"
    },
    {
     "data": {
      "image/png": "[encoded data removed]",
      "text/plain": [
       "<Figure size 432x288 with 1 Axes>"
      ]
     },
     "metadata": {
      "needs_background": "light"
     },
     "output_type": "display_data"
    }
   ],
   "source": [
    "sns.barplot(x='embarked',y='survived',data=df)"
   ]
  },
  {
   "cell_type": "code",
   "execution_count": 45,
   "id": "trying-elephant",
   "metadata": {
    "ExecuteTime": {
     "end_time": "2022-04-27T14:42:50.772386Z",
     "start_time": "2022-04-27T14:42:49.491758Z"
    }
   },
   "outputs": [
    {
     "data": {
      "text/plain": [
       "<AxesSubplot:xlabel='embarked', ylabel='survived'>"
      ]
     },
     "execution_count": 45,
     "metadata": {},
     "output_type": "execute_result"
    },
    {
     "data": {
      "image/png": "[encoded data removed]",
      "text/plain": [
       "<Figure size 432x288 with 1 Axes>"
      ]
     },
     "metadata": {
      "needs_background": "light"
     },
     "output_type": "display_data"
    }
   ],
   "source": [
    "# 선착장, 성별 별 살아남은 수 확인하기\n",
    "sns.barplot(x='embarked',y='survived',hue='sex', data=df)"
   ]
  },
  {
   "cell_type": "markdown",
   "id": "honest-sucking",
   "metadata": {},
   "source": [
    "- 선착장 정보가 존재하지 않는 데이터 2개는 모두 여성 데이터였고, 모두 생존하였다.\n",
    "- S와 Q에 비해서 C 선착장을 이용한 사람들이 더 많이 살아남았다."
   ]
  },
  {
   "cell_type": "markdown",
   "id": "blocked-reliance",
   "metadata": {},
   "source": [
    "## 결론"
   ]
  },
  {
   "cell_type": "markdown",
   "id": "frequent-lexington",
   "metadata": {
    "ExecuteTime": {
     "end_time": "2022-04-26T15:45:54.858710Z",
     "start_time": "2022-04-26T15:45:54.834034Z"
    }
   },
   "source": [
    "- 타이타닉 데이터에는 결측치가 많이 존재하여 그것을 적절하게 전처리하는 과정이 필요했다.\n",
    "- cabin 변수값과 같은 경우에는 특성을 찾아내 변수값을 새로 넣어줄 필요가 있었다.\n",
    "- 생존자보다 사망자가 더 많은 데이터였다.\n",
    "- 성별에 따른 생존율을 보았을 때, 남자 19%와 여자 72%로 많은 차이가 났다.\n",
    "- 1등급의 61.9%는 살았고, 2등급의 43%가 살았고, 3등급의 25%가 살았다. -> 3등급으로 갈수록 생존율이 급격하게 떨어지는 것을 볼 수 있었다.\n",
    "- 나이가 어린 사람이 상대적으로 나이가 많은 사람들보다 많이 살았다.\n",
    "- 부부 혹은 형제 수가 1명일 때의 생존율이 가장 높고 부부 혹은 형제 수가 5명일 때와 8명일 때는 모두 죽었다.\n",
    "- 가족과 함께 탄 사람은 혼자 탄 사람보다 더 많이 생존하였다.\n",
    "- S와 Q에 비해서 C 선착장을 이용한 사람들이 더 많이 살아남았다."
   ]
  }
 ],
 "metadata": {
  "kernelspec": {
   "display_name": "Python 3",
   "language": "python",
   "name": "python3"
  },
  "language_info": {
   "codemirror_mode": {
    "name": "ipython",
    "version": 3
   },
   "file_extension": ".py",
   "mimetype": "text/x-python",
   "name": "python",
   "nbconvert_exporter": "python",
   "pygments_lexer": "ipython3",
   "version": "3.8.8"
  },
  "toc": {
   "base_numbering": 1,
   "nav_menu": {},
   "number_sections": true,
   "sideBar": true,
   "skip_h1_title": false,
   "title_cell": "Table of Contents",
   "title_sidebar": "Contents",
   "toc_cell": false,
   "toc_position": {
    "height": "calc(100% - 180px)",
    "left": "10px",
    "top": "150px",
    "width": "294.225px"
   },
   "toc_section_display": true,
   "toc_window_display": true
  }
 },
 "nbformat": 4,
 "nbformat_minor": 5
}
